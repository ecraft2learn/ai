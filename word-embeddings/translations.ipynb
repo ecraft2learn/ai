{
 "cells": [
  {
   "cell_type": "code",
   "execution_count": 1,
   "metadata": {},
   "outputs": [
    {
     "name": "stderr",
     "output_type": "stream",
     "text": [
      "C:\\Users\\Ken\\Anaconda3\\lib\\site-packages\\gensim\\utils.py:1209: UserWarning: detected Windows; aliasing chunkize to chunkize_serial\n",
      "  warnings.warn(\"detected Windows; aliasing chunkize to chunkize_serial\")\n"
     ]
    }
   ],
   "source": [
    "import os\n",
    "\n",
    "from gensim import utils\n",
    "from gensim.models import translation_matrix\n",
    "from gensim.models import KeyedVectors\n",
    "\n",
    "import numpy as np\n"
   ]
  },
  {
   "cell_type": "code",
   "execution_count": 60,
   "metadata": {},
   "outputs": [],
   "source": [
    "def file_name_to_list(file_name):\n",
    "    file = open(file_name, \"r\", encoding=\"utf-8\")\n",
    "    return [line.strip() for line in file]\n",
    "\n",
    "def translate(language):\n",
    "    \n",
    "    all_source_words = file_name_to_list(\"C:/Users/Ken/Documents/GitHub/ai/word-embeddings/\" + language + \"/projector-labels.tsv\")\n",
    "    \n",
    "    all_target_words = file_name_to_list(\"C:/Users/Ken/Documents/GitHub/ai/word-embeddings/en/projector-labels.tsv\")\n",
    "\n",
    "    translated_english_words = file_name_to_list(\"C:/Users/Ken/Documents/GitHub/ai/word-embeddings/\" + language + \"/first500en.txt\")\n",
    "    \n",
    "    word_pairs = []\n",
    "    \n",
    "    english_words_used = []\n",
    "    \n",
    "    count = 0\n",
    "    \n",
    "    for i in range(len(translated_english_words)):\n",
    "        english = translated_english_words[i]\n",
    "        source = all_source_words[i]\n",
    "#        print(\"----------\")\n",
    "#        print(source + \" -> \" + english)\n",
    "        if english.islower() and len(english.split()) == 1 and english in all_target_words and source not in all_target_words and english not in english_words_used :\n",
    "            word_pairs.append((source, english))\n",
    "            english_words_used.append(english_words_used)\n",
    "            # print((source, english))\n",
    "            count = count+1\n",
    "            if count == 1000: # only need the first 1000\n",
    "                break\n",
    "    \n",
    "    print(len(word_pairs))\n",
    "    \n",
    "    # train_file = \"C:/Users/Ken/Documents/GitHub/ai/word-embeddings/\" + language + \"/to-en.txt\"\n",
    "\n",
    "    # with utils.smart_open(train_file, \"r\", encoding=\"utf-8\") as f:\n",
    "      #  word_pair = [tuple(line.strip().split()) for line in f]\n",
    "\n",
    "    # for pair in word_pair:\n",
    "        #if (len(pair) != 2):\n",
    "           # print(\"removing \" + str(pair))\n",
    "           #  word_pair.remove(pair)    \n",
    "    # Load the source language word vector\n",
    "    source_word_vec_file = \"C:/Users/Ken/Documents/GitHub/ai/word-embeddings/\" + language + \"/wiki-words.vec\"\n",
    "    source_word_vec = KeyedVectors.load_word2vec_format(source_word_vec_file, binary=False, encoding=\"utf-8\")\n",
    "\n",
    "    # Load the target language word vector\n",
    "    target_word_vec_file = \"C:/Users/Ken/Documents/GitHub/ai/word-embeddings/en/wiki-words.vec\"\n",
    "    target_word_vec = KeyedVectors.load_word2vec_format(target_word_vec_file, binary=False, encoding=\"utf-8\")\n",
    "\n",
    "    transmat = translation_matrix.TranslationMatrix(source_word_vec, target_word_vec, word_pairs)\n",
    "    transmat.train(word_pairs)\n",
    "    # print (\"the shape of translation matrix is: \", transmat.translation_matrix.shape)\n",
    "    file_path = \"C:/Users/Ken/Documents/GitHub/ai/word-embeddings/\" + language + \"/wiki-words.matrix\"\n",
    "    file = open(file_path, 'w', encoding='utf-8')\n",
    "    file.write(\"var translation_matrix = [\\n\")\n",
    "    shape = transmat.translation_matrix.shape\n",
    "    for i in range(shape[0]):\n",
    "        file.write(\"[\")\n",
    "        for j in range(shape[1]):\n",
    "            file.write(str(transmat.translation_matrix[i, j]))\n",
    "            file.write(\",\")\n",
    "        file.write(\"],\\n\")\n",
    "    file.write(\"];\\n\")\n",
    "    file.close()"
   ]
  },
  {
   "cell_type": "code",
   "execution_count": 62,
   "metadata": {},
   "outputs": [
    {
     "name": "stdout",
     "output_type": "stream",
     "text": [
      "815\n",
      "Ignoring because not in database: brukar(0) and usually(475)\n",
      "Ignoring because not in database: vem(380) and who(0)\n",
      "Ignoring because not in database: brukar(0) and usually(475)\n",
      "Ignoring because not in database: vem(380) and who(0)\n"
     ]
    }
   ],
   "source": [
    "translate('sv')"
   ]
  },
  {
   "cell_type": "code",
   "execution_count": 30,
   "metadata": {},
   "outputs": [],
   "source": [
    "translate('ja')"
   ]
  },
  {
   "cell_type": "code",
   "execution_count": 18,
   "metadata": {},
   "outputs": [
    {
     "name": "stdout",
     "output_type": "stream",
     "text": [
      "removing ('in', 'der', 'Nähe', 'von', 'near')\n",
      "removing ('nach', 'oben', 'up')\n",
      "removing ('am', 'meisten', 'most')\n",
      "removing ('nach', 'unten', 'down')\n",
      "removing ('am', 'wenigsten', 'least')\n"
     ]
    }
   ],
   "source": [
    "translate('de')"
   ]
  },
  {
   "cell_type": "code",
   "execution_count": 19,
   "metadata": {},
   "outputs": [
    {
     "name": "stdout",
     "output_type": "stream",
     "text": [
      "removing ('ο', 'οποίος', 'which')\n",
      "removing ('Η', 'μητέρα', 'mother')\n",
      "removing ('Ο', 'πατέρας', 'father')\n",
      "removing ('πάρα', 'πολύ', 'too')\n",
      "removing ('θα', 'μπορούσε', 'could')\n",
      "removing ('θα', 'πρέπει', 'να', 'should')\n",
      "removing ('θα', 'μπορούσε', 'might')\n",
      "removing ('μια', 'φορά', 'once')\n",
      "removing ('με', 'τα', 'πόδια', 'walk')\n",
      "removing ('αντ', '‘', 'stead')\n",
      "removing ('κατά', 'τη', 'διάρκεια', 'της', 'during')\n",
      "removing ('Ο', 'αδελφός', 'brother')\n",
      "removing ('το', 'στόμα', 'mouth')\n",
      "removing ('η', 'κυρία', 'lady')\n",
      "removing ('Η', 'ομάδα', 'team')\n",
      "removing ('Ο', 'γιος', 'son')\n",
      "removing ('κάτω', 'μέρος', 'bottom')\n",
      "removing ('του', 'νόμου', 'law')\n",
      "removing ('το', 'μεσημέρι', 'noon')\n",
      "removing ('των', 'οποίων', 'whose')\n",
      "removing ('των', 'οστών', 'bone')\n",
      "removing ('μητρική', 'εταιρεία', 'parent')\n",
      "removing ('προς', 'τα', 'εμπρός', 'forward')\n",
      "removing ('Η', 'εταιρεία', 'company')\n"
     ]
    }
   ],
   "source": [
    "translate('el')"
   ]
  },
  {
   "cell_type": "code",
   "execution_count": 21,
   "metadata": {},
   "outputs": [
    {
     "name": "stdout",
     "output_type": "stream",
     "text": [
      "removing ('ei', 'koskaan', 'never')\n",
      "removing ('ei', 'mitään', 'nothing')\n",
      "removing ('olkaa', 'hyvä', 'please')\n",
      "removing ('eikä', 'myöskään', 'nor')\n"
     ]
    }
   ],
   "source": [
    "translate('fi')"
   ]
  },
  {
   "cell_type": "code",
   "execution_count": 22,
   "metadata": {},
   "outputs": [
    {
     "name": "stdout",
     "output_type": "stream",
     "text": [
      "removing ('à', 'partir', 'de', 'from')\n",
      "removing ('il', 'faut', 'must')\n",
      "removing ('est', 'allé', 'went')\n",
      "removing ('près', 'de', 'near')\n",
      "removing ('est', 'venu', 'came')\n",
      "removing ('la', 'cause', 'cause')\n",
      "removing ('vers', 'le', 'bas', 'down')\n",
      "removing ('tandis', 'que', 'while')\n",
      "removing ('a', 'pris', 'took')\n",
      "removing ('a', 'commencé', 'began')\n",
      "removing ('une', 'fois', 'once')\n",
      "removing ('tous', 'les', 'deux', 'both')\n",
      "removing ('jusqu’à', 'ce', 'que', 'until')\n",
      "removing ('bien', 'que', 'though')\n",
      "removing ('se', 'demander', 'wonder')\n",
      "removing ('il', 'ya', 'ago')\n",
      "removing ('a', 'augmenté', 'grew')\n",
      "removing ('est', 'tombé', 'fell')\n",
      "removing ('tout', 'à', 'fait', 'quite')\n",
      "removing ('se', 'rencontrent', 'meet')\n",
      "removing ('en', 'attente', 'held')\n",
      "removing ('s’il', 'vous', 'plaît', 'please')\n",
      "removing ('se', 'mettre', 'd’accord', 'agree')\n",
      "removing ('se', 'dépêcher', 'hurry')\n",
      "removing ('se', 'produire', 'occur')\n",
      "removing ('de', 'base', 'basic')\n"
     ]
    }
   ],
   "source": [
    "translate('fr')"
   ]
  },
  {
   "cell_type": "code",
   "execution_count": 23,
   "metadata": {},
   "outputs": [
    {
     "name": "stdout",
     "output_type": "stream",
     "text": [
      "removing ('කුමක්', 'ද', 'what')\n",
      "removing ('එක්', 'එක්', 'each')\n",
      "removing ('මුල්', 'පිටුව', 'home')\n",
      "removing ('අක්ෂර', 'වින්යාස', 'spell')\n",
      "removing ('කල', 'යුතු', 'must')\n",
      "removing ('ආකෘති', 'පත්රය', 'form')\n",
      "removing ('අනෙක්', 'අතට', 'turn')\n",
      "removing ('පිරිමි', 'ළමයා', 'boy')\n",
      "removing ('කවදා', 'ද', 'when')\n",
      "removing ('කළ', 'යුත්තේ', 'should')\n",
      "removing ('ඉඩ', 'දෙන්න', 'let')\n",
      "removing ('වෙහෙස', 'මහන්සි', 'වී', 'hard')\n",
      "removing ('දිනුම්', 'ඇදීම', 'draw')\n",
      "removing ('සැපයුම', 'අත්හිටුවන', 'cut')\n",
      "removing ('සෑම', 'විටම', 'always')\n",
      "removing ('බොහෝ', 'විට', 'often')\n",
      "removing ('මෝටර්', 'රථ', 'car')\n",
      "removing ('මම', 'ඔයාට', 'ආදරේ', 'miss')\n",
      "removing ('ගෙන', 'ඒමට', 'bring')\n",
      "removing ('පියාසර', 'තහනම්', 'fly')\n",
      "removing ('නාම', 'පදයක්', 'noun')\n",
      "removing ('වඩා', 'හොඳ', 'better')\n",
      "removing ('මතක', 'තබා', 'remember')\n",
      "removing ('ක්රියා', 'පදයෙන්', 'verb')\n",
      "removing ('අද', 'උදෑසන', 'morning')\n",
      "removing ('දැනුම්', 'දීමකින්', 'notice')\n",
      "removing ('සවාරියක්', 'යෑමේ', 'ride')\n",
      "removing ('සමහර', 'විට', 'perhaps')\n",
      "removing ('වෙනස්', 'විය', 'vary')\n",
      "removing ('සිරුරේ', 'බර', 'weight')\n",
      "removing ('තනි', 'වූ', 'lone')\n",
      "removing ('අතට', 'උඩ', 'පන්දුවක්', 'catch')\n",
      "removing ('වෝටර්ස්', 'එජ්', 'edge')\n",
      "removing ('තනු', 'නිර්මාණය', 'melody')\n",
      "removing ('අවම', 'වශයෙන්', 'least')\n",
      "removing ('ඝෝෂා', 'කරනවා', 'shout')\n",
      "removing ('මෙසේ', 'ලිවීය', 'wrote')\n",
      "removing ('වර්ධනය', 'වී', 'grew')\n",
      "removing ('ශබ්ද', 'විකාශන', 'යන්ත්ර', 'loud')\n",
      "removing ('යෙදෙන', 'ව්යාංජනාක්ෂර', 'consonant')\n",
      "removing ('ශබ්ද', 'කෝෂය', 'dictionary')\n",
      "removing ('වයස', 'අවුරුදු', 'age')\n",
      "removing ('ඉතා', 'කුඩා', 'tiny')\n",
      "removing ('අත්හදා', 'බැලීම', 'experiment')\n",
      "removing ('වෙත', 'පනින්න', 'jump')\n",
      "removing ('තල්ලු', 'කරනවා', 'push')\n",
      "removing ('යුද', 'හමුදා', 'සෙබලෙකු', 'soldier')\n",
      "removing ('ගුවන්', 'විදුලි', 'radio')\n",
      "removing ('පන්දුවට', 'පහර', 'දුන්', 'bat')\n",
      "removing ('රඳා', 'පවතී', 'depend')\n",
      "removing ('විෂය', 'ධාරාව', 'stream')\n",
      "removing ('යටත්', 'විජිතයක්', 'colony')\n",
      "removing ('බිම්', 'බෝම්බ', 'mine')\n",
      "removing ('මිය', 'ගිය', 'dead')\n",
      "removing ('විදුලි', 'සෝපානය', 'lift')\n",
      "removing ('හැඟීම්', 'ඇවිස්සුවේ', 'chord')\n",
      "removing ('ෙපර', 'ෙයදුම', 'suffix')\n",
      "removing ('මිලදී', 'ගත්', 'bought')\n",
      "removing ('සංගීත', 'කණ්ඩායම', 'band')\n",
      "removing ('දරන', 'ඉඩම්', 'ෙකොටස්ෙලස', 'ෙපන්නුම්', 'ෙකොට', 'ඇත්තා', 'block')\n",
      "removing ('නැළියකට', 'විකිණීම', 'quart')\n",
      "removing ('ට්රක්', 'රථ', 'truck')\n",
      "removing ('වෙළඳ', 'සැලක්', 'shop')\n",
      "removing ('ඔප', 'දමන', 'shine')\n",
      "removing ('බහු', 'වචන', 'plural')\n"
     ]
    }
   ],
   "source": [
    "translate('si')"
   ]
  },
  {
   "cell_type": "code",
   "execution_count": 13,
   "metadata": {},
   "outputs": [
    {
     "name": "stdout",
     "output_type": "stream",
     "text": [
      "removing ('di', 'sini', 'here')\n",
      "removing ('di', 'bawah', 'under')\n",
      "removing ('sebagian', 'besar', 'most')\n",
      "removing ('lebih', 'dari', 'over')\n",
      "removing ('tidak', 'pernah', 'never')\n",
      "removing ('tidak', 'ada', 'nothing')\n",
      "removing ('di', 'belakang', 'behind')\n",
      "removing ('lebih', 'baik', 'better')\n",
      "removing ('kata', 'kerja', 'verb')\n",
      "removing ('suku', 'kata', 'syllable')\n",
      "removing ('musim', 'panas', 'summer')\n",
      "removing ('musim', 'dingin', 'winter')\n",
      "removing ('masa', 'lalu', 'past')\n",
      "removing ('musim', 'semi', 'spring')\n",
      "removing ('dua', 'puluh', 'twenty')\n",
      "removing ('yang', 'modern', 'modern')\n",
      "removing ('saat', 'ini', 'current')\n"
     ]
    }
   ],
   "source": [
    "translate('id')"
   ]
  },
  {
   "cell_type": "code",
   "execution_count": 24,
   "metadata": {},
   "outputs": [
    {
     "name": "stdout",
     "output_type": "stream",
     "text": [
      "removing ('a', 'partir', 'de', 'from')\n",
      "removing ('o', 'que', 'what')\n",
      "removing ('por', 'que', 'why')\n",
      "removing ('de', 'volta', 'back')\n",
      "removing ('acho', 'que', 'think')\n",
      "removing ('para', 'baixo', 'down')\n",
      "removing ('uma', 'vez', 'once')\n",
      "removing ('muitas', 'vezes', 'often')\n",
      "removing ('em', 'breve', 'soon')\n",
      "removing ('material', 'de', 'material')\n",
      "removing ('de', 'metal', 'metal')\n",
      "removing ('por', 'favor', 'please')\n",
      "removing ('acho', 'que', 'guess')\n",
      "removing ('para', 'a', 'frente', 'forward')\n",
      "removing ('total', 'de', 'total')\n"
     ]
    }
   ],
   "source": [
    "translate('pt')"
   ]
  },
  {
   "cell_type": "code",
   "execution_count": 25,
   "metadata": {},
   "outputs": [
    {
     "name": "stdout",
     "output_type": "stream",
     "text": [
      "removing ('lo', 'hará', 'will')\n",
      "removing ('por', 'qué', 'why')\n",
      "removing ('se', 'fue', 'went')\n",
      "removing ('de', 'nuevo', 'again')\n",
      "removing ('a', 'través', 'de', 'through')\n",
      "removing ('ser', 'distinto', 'differ')\n",
      "removing ('de', 'pie', 'stand')\n",
      "removing ('una', 'vez', 'once')\n",
      "removing ('por', 'encima', 'de', 'above')\n",
      "removing ('al', 'este', 'east')\n",
      "removing ('plan', 'de', 'plan')\n",
      "removing ('se', 'ha', 'ido', 'gone')\n",
      "removing ('el', 'control', 'control')\n",
      "removing ('se', 'reúnen', 'meet')\n",
      "removing ('de', 'metal', 'metal')\n",
      "removing ('en', 'espera', 'held')\n",
      "removing ('ya', 'sea', 'either')\n",
      "removing ('de', 'altura', 'tall')\n",
      "removing ('de', 'capital', 'capital')\n",
      "removing ('de', 'espesor', 'thick')\n",
      "removing ('por', 'favor', 'please')\n",
      "removing ('de', 'cultivos', 'crop')\n",
      "removing ('por', 'tanto,', 'thus')\n",
      "removing ('más', 'bien', 'rather')\n",
      "removing ('cuarto', 'de', 'galón', 'quart')\n"
     ]
    }
   ],
   "source": [
    "translate('es')"
   ]
  },
  {
   "cell_type": "code",
   "execution_count": 26,
   "metadata": {},
   "outputs": [
    {
     "name": "stdout",
     "output_type": "stream",
     "text": [
      "removing ('別', 'do', 'not')\n",
      "removing ('是不是', 'is', 'not')\n",
      "removing ('不用', 'need', 'not')\n",
      "removing ('回家', 'return', 'home')\n",
      "removing ('不會', 'will', 'not')\n",
      "removing ('不要', 'must', 'not')\n",
      "removing ('不知道', 'do', 'not', 'know')\n",
      "removing ('多少', 'how', 'much')\n",
      "removing ('回去', 'go', 'back')\n",
      "removing ('不管', 'regardless', 'of')\n",
      "removing ('据', 'according', 'to')\n",
      "removing ('不想', 'do', 'not', 'want', 'to')\n",
      "removing ('几', 'a', 'few')\n",
      "removing ('一直', 'has', 'been')\n",
      "removing ('不起', 'can', 'not', 'afford', 'to')\n",
      "removing ('不到', 'less', 'than')\n",
      "removing ('最好', 'the', 'best')\n",
      "removing ('万', 'ten', 'thousand')\n",
      "removing ('除了', 'in', 'addition', 'to')\n",
      "removing ('昨晚', 'last', 'night')\n",
      "removing ('行了', 'the', 'line')\n",
      "removing ('不行', 'not', 'work')\n",
      "removing ('找', 'look', 'for')\n",
      "removing ('我喜', 'i', 'am', 'pleased', 'to')\n",
      "removing ('想我', 'think', 'i')\n",
      "removing ('受', 'be', 'subject')\n",
      "removing ('晚上', 'at', 'night')\n",
      "removing ('可不', 'from', 'time', 'to')\n",
      "removing ('當', 'when', 'the')\n",
      "removing ('謝謝', 'thank', 'you')\n",
      "removing ('谢谢', 'thank', 'you')\n",
      "removing ('放在', 'on', 'the')\n",
      "removing ('住在', 'lives', 'in')\n",
      "removing ('而已', 'nothing', 'more')\n",
      "removing ('對不起', 'i', 'am', 'sorry')\n",
      "removing ('想知道', 'want', 'to', 'know')\n",
      "removing ('放下', 'put', 'down')\n",
      "removing ('害怕', 'be', 'afraid')\n",
      "removing ('回到', 'back', 'to')\n",
      "removing ('一天', 'one', 'day')\n",
      "removing ('下去', 'go', 'on')\n",
      "removing ('不需要', 'do', 'not', 'need', 'to')\n",
      "removing ('至少', 'at', 'least')\n",
      "removing ('脱', 'take', 'off')\n",
      "removing ('不喜', 'do', 'not', 'like')\n",
      "removing ('快走', 'brisk', 'walking')\n",
      "removing ('沒事', 'all', 'right')\n",
      "removing ('代', 'on', 'behalf', 'of')\n",
      "removing ('回來', 'come', 'back')\n",
      "removing ('當然', 'of', 'course')\n",
      "removing ('晚安', 'good', 'night')\n",
      "removing ('待', 'to', 'be')\n",
      "removing ('真不', 'i', 'really', 'do', 'not')\n",
      "removing ('不再', 'no', 'longer')\n",
      "removing ('多久', 'how', 'long')\n",
      "removing ('斯', 'sri', 'lanka')\n",
      "removing ('别', 'do', 'not')\n",
      "removing ('当', 'when', 'the')\n"
     ]
    }
   ],
   "source": [
    "translate('zh')"
   ]
  },
  {
   "cell_type": "code",
   "execution_count": 29,
   "metadata": {},
   "outputs": [
    {
     "name": "stdout",
     "output_type": "stream",
     "text": [
      "removing ('के', 'लिए', 'for')\n",
      "removing ('the',)\n",
      "removing ('कर', 'सकते', 'हैं', 'can')\n",
      "removing ('करता', 'है', 'does')\n",
      "removing ('चाहते', 'हैं', 'want')\n",
      "removing ('अच्छी', 'तरह', 'से', 'well')\n",
      "removing ('और', 'भी', 'even')\n",
      "removing ('का', 'पालन', 'करें', 'follow')\n",
      "removing ('चला', 'गया', 'went')\n",
      "removing ('किसी', 'भी', 'any')\n",
      "removing ('के', 'बाद', 'after')\n",
      "removing ('के', 'माध्यम', 'से', 'through')\n",
      "removing ('लगता', 'है', 'think')\n",
      "removing ('के', 'बारे', 'में', 'about')\n",
      "removing ('लंबे', 'समय', 'तक', 'long')\n",
      "removing ('सकता', 'है', 'could')\n",
      "removing ('लगता', 'है', 'find')\n",
      "removing ('अब', 'तक', 'still')\n",
      "removing ('के', 'बीच', 'between')\n",
      "removing ('कभी', 'नहीं', 'never')\n",
      "removing ('हो', 'सकता', 'है', 'might')\n",
      "removing ('देर', 'से', 'late')\n",
      "removing ('ले', 'लिया', 'took')\n",
      "removing ('शुरू', 'हुआ', 'began')\n",
      "removing ('एक', 'बार', 'once')\n",
      "removing ('एक', 'साथ', 'together')\n",
      "removing ('प्रारंभ', 'करना', 'begin')\n",
      "removing ('जब', 'तक', 'until')\n",
      "removing ('हमेशा', 'की', 'तरह', 'usual')\n",
      "removing ('लग', 'रहा', 'है', 'feel')\n",
      "removing ('पता', 'था', 'knew')\n",
      "removing ('के', 'बाद', 'से', 'since')\n",
      "removing ('कुछ', 'नहीं', 'nothing')\n",
      "removing ('के', 'बीच', 'among')\n",
      "removing ('खड़ा', 'हुआ', 'stood')\n",
      "removing ('हरे', 'रंग', 'green')\n",
      "removing ('तक', 'पहुँचने', 'reach')\n",
      "removing ('की', 'ओर', 'toward')\n",
      "removing ('के', 'खिलाफ', 'against')\n",
      "removing ('सेवा', 'कर', 'serve')\n",
      "removing ('विश्वास', 'है', 'believe')\n",
      "removing ('का', 'प्रतिनिधित्व', 'represent')\n",
      "removing ('भिन्न', 'हो', 'vary')\n",
      "removing ('अभी', 'तक', 'yet')\n",
      "removing ('स्टील', 'अथॉरिटी', 'ऑफ', 'इंडिया', 'sail')\n",
      "removing ('चला', 'गया', 'gone')\n",
      "removing ('प्राप्त', 'करना', 'receive')\n",
      "removing ('कम', 'से', 'कम', 'least')\n",
      "removing ('शामिल', 'होने', 'join')\n",
      "removing ('गिर', 'गया', 'fell')\n",
      "removing ('तोड़', 'दिया', 'broke')\n",
      "removing ('विचार', 'करना', 'consider')\n",
      "removing ('स्थिति', 'जानें', 'locate')\n",
      "removing ('संकेत', 'मिलता', 'है', 'indicate')\n",
      "removing ('इस', 'प्रकार', 'thus')\n",
      "removing ('जल्दी', 'करो', 'hurry')\n",
      "removing ('की', 'अनुमति', 'allow')\n",
      "removing ('माता', 'पिता', 'parent')\n",
      "removing ('लॉग', 'इन', 'करें', 'log')\n",
      "removing ('विशेष', 'रूप', 'से', 'especially')\n",
      "removing ('इसी', 'तरह', 'similar')\n",
      "removing ('और', 'न', 'ही', 'nor')\n",
      "removing ('जारी', 'रखने', 'के', 'continue')\n",
      "removing ('चौथाई', 'गेलन', 'quart')\n"
     ]
    }
   ],
   "source": [
    "translate('hi')"
   ]
  },
  {
   "cell_type": "code",
   "execution_count": 28,
   "metadata": {},
   "outputs": [
    {
     "name": "stdout",
     "output_type": "stream",
     "text": [
      "removing ('කුමක්', 'ද', 'what')\n",
      "removing ('එක්', 'එක්', 'each')\n",
      "removing ('මුල්', 'පිටුව', 'home')\n",
      "removing ('අක්ෂර', 'වින්යාස', 'spell')\n",
      "removing ('කල', 'යුතු', 'must')\n",
      "removing ('ආකෘති', 'පත්රය', 'form')\n",
      "removing ('අනෙක්', 'අතට', 'turn')\n",
      "removing ('පිරිමි', 'ළමයා', 'boy')\n",
      "removing ('කවදා', 'ද', 'when')\n",
      "removing ('කළ', 'යුත්තේ', 'should')\n",
      "removing ('ඉඩ', 'දෙන්න', 'let')\n",
      "removing ('වෙහෙස', 'මහන්සි', 'වී', 'hard')\n",
      "removing ('දිනුම්', 'ඇදීම', 'draw')\n",
      "removing ('සැපයුම', 'අත්හිටුවන', 'cut')\n",
      "removing ('සෑම', 'විටම', 'always')\n",
      "removing ('බොහෝ', 'විට', 'often')\n",
      "removing ('මෝටර්', 'රථ', 'car')\n",
      "removing ('මම', 'ඔයාට', 'ආදරේ', 'miss')\n",
      "removing ('ගෙන', 'ඒමට', 'bring')\n",
      "removing ('පියාසර', 'තහනම්', 'fly')\n",
      "removing ('නාම', 'පදයක්', 'noun')\n",
      "removing ('වඩා', 'හොඳ', 'better')\n",
      "removing ('මතක', 'තබා', 'remember')\n",
      "removing ('ක්රියා', 'පදයෙන්', 'verb')\n",
      "removing ('අද', 'උදෑසන', 'morning')\n",
      "removing ('දැනුම්', 'දීමකින්', 'notice')\n",
      "removing ('සවාරියක්', 'යෑමේ', 'ride')\n",
      "removing ('සමහර', 'විට', 'perhaps')\n",
      "removing ('වෙනස්', 'විය', 'vary')\n",
      "removing ('සිරුරේ', 'බර', 'weight')\n",
      "removing ('තනි', 'වූ', 'lone')\n",
      "removing ('අතට', 'උඩ', 'පන්දුවක්', 'catch')\n",
      "removing ('වෝටර්ස්', 'එජ්', 'edge')\n",
      "removing ('තනු', 'නිර්මාණය', 'melody')\n",
      "removing ('අවම', 'වශයෙන්', 'least')\n",
      "removing ('ඝෝෂා', 'කරනවා', 'shout')\n",
      "removing ('මෙසේ', 'ලිවීය', 'wrote')\n",
      "removing ('වර්ධනය', 'වී', 'grew')\n",
      "removing ('ශබ්ද', 'විකාශන', 'යන්ත්ර', 'loud')\n",
      "removing ('යෙදෙන', 'ව්යාංජනාක්ෂර', 'consonant')\n",
      "removing ('ශබ්ද', 'කෝෂය', 'dictionary')\n",
      "removing ('වයස', 'අවුරුදු', 'age')\n",
      "removing ('ඉතා', 'කුඩා', 'tiny')\n",
      "removing ('අත්හදා', 'බැලීම', 'experiment')\n",
      "removing ('වෙත', 'පනින්න', 'jump')\n",
      "removing ('තල්ලු', 'කරනවා', 'push')\n",
      "removing ('යුද', 'හමුදා', 'සෙබලෙකු', 'soldier')\n",
      "removing ('ගුවන්', 'විදුලි', 'radio')\n",
      "removing ('පන්දුවට', 'පහර', 'දුන්', 'bat')\n",
      "removing ('රඳා', 'පවතී', 'depend')\n",
      "removing ('විෂය', 'ධාරාව', 'stream')\n",
      "removing ('යටත්', 'විජිතයක්', 'colony')\n",
      "removing ('බිම්', 'බෝම්බ', 'mine')\n",
      "removing ('මිය', 'ගිය', 'dead')\n",
      "removing ('විදුලි', 'සෝපානය', 'lift')\n",
      "removing ('හැඟීම්', 'ඇවිස්සුවේ', 'chord')\n",
      "removing ('ෙපර', 'ෙයදුම', 'suffix')\n",
      "removing ('මිලදී', 'ගත්', 'bought')\n",
      "removing ('සංගීත', 'කණ්ඩායම', 'band')\n",
      "removing ('දරන', 'ඉඩම්', 'ෙකොටස්ෙලස', 'ෙපන්නුම්', 'ෙකොට', 'ඇත්තා', 'block')\n",
      "removing ('නැළියකට', 'විකිණීම', 'quart')\n",
      "removing ('ට්රක්', 'රථ', 'truck')\n",
      "removing ('වෙළඳ', 'සැලක්', 'shop')\n",
      "removing ('ඔප', 'දමන', 'shine')\n",
      "removing ('බහු', 'වචන', 'plural')\n"
     ]
    }
   ],
   "source": [
    "translate('si')"
   ]
  },
  {
   "cell_type": "code",
   "execution_count": null,
   "metadata": {},
   "outputs": [],
   "source": []
  }
 ],
 "metadata": {
  "kernelspec": {
   "display_name": "Python 3",
   "language": "python",
   "name": "python3"
  },
  "language_info": {
   "codemirror_mode": {
    "name": "ipython",
    "version": 3
   },
   "file_extension": ".py",
   "mimetype": "text/x-python",
   "name": "python",
   "nbconvert_exporter": "python",
   "pygments_lexer": "ipython3",
   "version": "3.6.5"
  }
 },
 "nbformat": 4,
 "nbformat_minor": 2
}
