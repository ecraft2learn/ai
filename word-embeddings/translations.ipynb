{
 "cells": [
  {
   "cell_type": "code",
   "execution_count": 1,
   "metadata": {},
   "outputs": [
    {
     "name": "stderr",
     "output_type": "stream",
     "text": [
      "C:\\Users\\Ken\\Anaconda3\\lib\\site-packages\\gensim\\utils.py:1209: UserWarning: detected Windows; aliasing chunkize to chunkize_serial\n",
      "  warnings.warn(\"detected Windows; aliasing chunkize to chunkize_serial\")\n"
     ]
    }
   ],
   "source": [
    "import os\n",
    "\n",
    "from gensim import utils\n",
    "from gensim.models import translation_matrix\n",
    "from gensim.models import KeyedVectors\n",
    "\n",
    "import numpy as np\n"
   ]
  },
  {
   "cell_type": "code",
   "execution_count": 2,
   "metadata": {},
   "outputs": [],
   "source": [
    "def translate(language):\n",
    "    train_file = \"C:/Users/Ken/Documents/GitHub/ai/word-embeddings/\" + language + \"/to-en.txt\"\n",
    "\n",
    "    with utils.smart_open(train_file, \"r\", encoding=\"utf-8\") as f:\n",
    "        word_pair = [tuple(line.strip().split()) for line in f]\n",
    " \n",
    "    # Load the source language word vector\n",
    "    source_word_vec_file = \"C:/Users/Ken/Documents/GitHub/ai/word-embeddings/\" + language + \"/wiki-words.vec\"\n",
    "    source_word_vec = KeyedVectors.load_word2vec_format(source_word_vec_file, binary=False, encoding=\"utf-8\")\n",
    "\n",
    "    # Load the target language word vector\n",
    "    target_word_vec_file = \"C:/Users/Ken/Documents/GitHub/ai/word-embeddings/en/wiki-words.vec\"\n",
    "    target_word_vec = KeyedVectors.load_word2vec_format(target_word_vec_file, binary=False, encoding=\"utf-8\")\n",
    "\n",
    "    transmat = translation_matrix.TranslationMatrix(source_word_vec, target_word_vec, word_pair)\n",
    "    transmat.train(word_pair)\n",
    "    # print (\"the shape of translation matrix is: \", transmat.translation_matrix.shape)\n",
    "    file_path = \"C:/Users/Ken/Documents/GitHub/ai/word-embeddings/\" + language + \"/wiki-words.matrix\"\n",
    "    file = open(file_path, 'w', encoding='utf-8')\n",
    "    file.write(\"var translation_matrix = [\\n\")\n",
    "    shape = transmat.translation_matrix.shape\n",
    "    for i in range(shape[0]):\n",
    "        file.write(\"[\")\n",
    "        for j in range(shape[1]):\n",
    "            file.write(str(transmat.translation_matrix[i, j]))\n",
    "            file.write(\",\")\n",
    "        file.write(\"],\\n\")\n",
    "    file.write(\"];\\n\")\n",
    "    file.close()"
   ]
  },
  {
   "cell_type": "code",
   "execution_count": 9,
   "metadata": {},
   "outputs": [],
   "source": [
    "translate('it')"
   ]
  },
  {
   "cell_type": "code",
   "execution_count": 43,
   "metadata": {},
   "outputs": [
    {
     "name": "stdout",
     "output_type": "stream",
     "text": [
      "<gensim.models.keyedvectors.Word2VecKeyedVectors object at 0x000002201E6B2080>\n"
     ]
    }
   ],
   "source": [
    "translate('sv')"
   ]
  },
  {
   "cell_type": "code",
   "execution_count": 6,
   "metadata": {},
   "outputs": [
    {
     "name": "stdout",
     "output_type": "stream",
     "text": [
      "<gensim.models.keyedvectors.Word2VecKeyedVectors object at 0x00000265B6F33438>\n"
     ]
    }
   ],
   "source": [
    "translate('ja')"
   ]
  },
  {
   "cell_type": "code",
   "execution_count": 58,
   "metadata": {},
   "outputs": [
    {
     "name": "stdout",
     "output_type": "stream",
     "text": [
      "<gensim.models.keyedvectors.Word2VecKeyedVectors object at 0x000002201D681400>\n"
     ]
    }
   ],
   "source": [
    "translate('de')"
   ]
  },
  {
   "cell_type": "code",
   "execution_count": 8,
   "metadata": {},
   "outputs": [],
   "source": [
    "translate('el')"
   ]
  },
  {
   "cell_type": "code",
   "execution_count": 22,
   "metadata": {},
   "outputs": [],
   "source": [
    "translate('fi')"
   ]
  },
  {
   "cell_type": "code",
   "execution_count": 24,
   "metadata": {},
   "outputs": [],
   "source": [
    "translate('fr')"
   ]
  },
  {
   "cell_type": "code",
   "execution_count": null,
   "metadata": {},
   "outputs": [],
   "source": [
    "translate('si')"
   ]
  },
  {
   "cell_type": "code",
   "execution_count": 28,
   "metadata": {},
   "outputs": [],
   "source": [
    "translate('id')"
   ]
  },
  {
   "cell_type": "code",
   "execution_count": 29,
   "metadata": {},
   "outputs": [],
   "source": [
    "translate('pt')"
   ]
  },
  {
   "cell_type": "code",
   "execution_count": 35,
   "metadata": {},
   "outputs": [
    {
     "name": "stdout",
     "output_type": "stream",
     "text": [
      "[('como', 'as'), ('su', 'his'), ('que', 'that'), ('Ã©l', 'he'), ('era', 'was'), ('para', 'for'), ('en', 'on'), ('son', 'are'), ('con', 'with'), ('ellos', 'they')]\n"
     ]
    }
   ],
   "source": [
    "translate('es')"
   ]
  },
  {
   "cell_type": "code",
   "execution_count": null,
   "metadata": {},
   "outputs": [],
   "source": []
  }
 ],
 "metadata": {
  "kernelspec": {
   "display_name": "Python 3",
   "language": "python",
   "name": "python3"
  },
  "language_info": {
   "codemirror_mode": {
    "name": "ipython",
    "version": 3
   },
   "file_extension": ".py",
   "mimetype": "text/x-python",
   "name": "python",
   "nbconvert_exporter": "python",
   "pygments_lexer": "ipython3",
   "version": "3.6.5"
  }
 },
 "nbformat": 4,
 "nbformat_minor": 2
}
