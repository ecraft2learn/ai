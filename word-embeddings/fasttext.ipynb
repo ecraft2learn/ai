{
 "cells": [
  {
   "cell_type": "code",
   "execution_count": 1,
   "metadata": {},
   "outputs": [],
   "source": [
    "import io\n",
    "\n",
    "def load_vectors(file_name, size, exceptions=[], language='en'):\n",
    "    fin = io.open(file_name, 'r', encoding='utf-8', newline='\\n', errors='ignore')\n",
    "    n, d = map(int, fin.readline().split())\n",
    "    data = {}\n",
    "    count = 0\n",
    "    for line in fin:\n",
    "        tokens = line.rstrip().split(' ')\n",
    "        if good_word(tokens[0], exceptions, language):\n",
    "            data[tokens[0]] = map(float, tokens[1:])\n",
    "            count = count+1\n",
    "        if count >= size:\n",
    "            return data\n",
    "    return data\n",
    "def good_word(string, exceptions=[], language='en') :\n",
    "    if language == 'hi' or language == 'zh' or language == 'ja' or language == 'si': # isalpha doesn't work on Hindi, Chinese, or Japanese\n",
    "        if all(ord(c) < 128 for c in string):\n",
    "            return False\n",
    "    elif not string.isalpha() or not string.islower():\n",
    "        return False\n",
    "    for exception in exceptions:\n",
    "        if exception in string:\n",
    "            return False\n",
    "    return True\n",
    "def write_js(input_name, output_name, language, size, exceptions=[]):\n",
    "    data = load_vectors(input_name, size, exceptions, language)\n",
    "    out = io.open(output_name, 'w', encoding='utf-16', newline='\\n')\n",
    "    print('words_to_features[\"' + language + '\"] = {', file=out)\n",
    "    for key, vector in data.items():\n",
    "        print('\"' + key + '\"', end=':[', file=out)\n",
    "        for x in vector:\n",
    "            print(str(x), end=',', file=out)\n",
    "        print('],', file=out)\n",
    "    print('}', file=out)\n",
    "    out.close()\n",
    "\n",
    "def write_vectors(input_name, output_name, language, size, exceptions=[]):\n",
    "    data = load_vectors(input_name, size, exceptions, language)\n",
    "    out = io.open(output_name, 'w', encoding='utf-8', newline='\\n')\n",
    "    print('20000 300', end='\\n', file=out)\n",
    "    for key, vector in data.items():\n",
    "        print(key, end=' ', file=out)\n",
    "        for x in vector:\n",
    "            print(str(x), end=' ', file=out)\n",
    "        print('', end='\\n', file=out)\n",
    "    out.close()\n"
   ]
  },
  {
   "cell_type": "code",
   "execution_count": 61,
   "metadata": {},
   "outputs": [
    {
     "data": {
      "text/plain": [
       "'Finished'"
      ]
     },
     "execution_count": 61,
     "metadata": {},
     "output_type": "execute_result"
    }
   ],
   "source": [
    "write_js('c:/temp/wiki.id.vec', 'C:/Users/Ken/Documents/GitHub/ai/word-embeddings/id/wiki-words.js', 'id', 20000)"
   ]
  },
  {
   "cell_type": "code",
   "execution_count": null,
   "metadata": {},
   "outputs": [],
   "source": [
    "from IPython.display import display\n",
    "from ipywidgets import widgets\n",
    "\n",
    "button = widgets.Button(description=\"Click Me!\")\n",
    "display(button)\n",
    "\n",
    "output = widgets.Output()\n",
    "\n",
    "@output.capture()\n",
    "def on_button_clicked(b):\n",
    "    print(\"Button clicked.\")\n",
    "\n",
    "button.on_click(on_button_clicked)\n",
    "display(output)"
   ]
  },
  {
   "cell_type": "code",
   "execution_count": 19,
   "metadata": {},
   "outputs": [],
   "source": [
    "write_js('c:/temp/cc.hi.300.vec', 'C:/Users/Ken/Documents/GitHub/ai/word-embeddings/hi/wiki-words.js', 'hi', 20000)"
   ]
  },
  {
   "cell_type": "code",
   "execution_count": 2,
   "metadata": {},
   "outputs": [],
   "source": [
    "write_js('c:/temp/cc.sv.300.vec', 'C:/Users/Ken/Documents/GitHub/ai/word-embeddings/sv/wiki-words.js', 'sv', 20000)"
   ]
  },
  {
   "cell_type": "code",
   "execution_count": 100,
   "metadata": {},
   "outputs": [
    {
     "data": {
      "text/plain": [
       "'Finished'"
      ]
     },
     "execution_count": 100,
     "metadata": {},
     "output_type": "execute_result"
    }
   ],
   "source": [
    "write_js('c:/temp/cc.fi.300.vec', 'C:/Users/Ken/Documents/GitHub/ai/word-embeddings/fi/wiki-words.js', 'fi', 20000)"
   ]
  },
  {
   "cell_type": "code",
   "execution_count": 4,
   "metadata": {},
   "outputs": [],
   "source": [
    "write_js('c:/temp/cc.el.300.vec', 'C:/Users/Ken/Documents/GitHub/ai/word-embeddings/el/wiki-words.js', 'el', 20000)"
   ]
  },
  {
   "cell_type": "code",
   "execution_count": 5,
   "metadata": {},
   "outputs": [],
   "source": [
    "write_js('c:/temp/cc.it.300.vec', 'C:/Users/Ken/Documents/GitHub/ai/word-embeddings/it/wiki-words.js', 'it', 20000)"
   ]
  },
  {
   "cell_type": "code",
   "execution_count": 7,
   "metadata": {},
   "outputs": [],
   "source": [
    "write_js('c:/temp/cc.pt.300.vec', 'C:/Users/Ken/Documents/GitHub/ai/word-embeddings/pt/wiki-words.js', 'pt', 20000)"
   ]
  },
  {
   "cell_type": "code",
   "execution_count": 24,
   "metadata": {},
   "outputs": [],
   "source": [
    "write_js('c:/temp/cc.si.300.vec', 'C:/Users/Ken/Documents/GitHub/ai/word-embeddings/si/wiki-words.js', 'si', 20000)"
   ]
  },
  {
   "cell_type": "code",
   "execution_count": 10,
   "metadata": {},
   "outputs": [],
   "source": [
    "write_js('c:/temp/cc.fr.300.vec', 'C:/Users/Ken/Documents/GitHub/ai/word-embeddings/fr/wiki-words.js', 'fr', 20000)"
   ]
  },
  {
   "cell_type": "code",
   "execution_count": 11,
   "metadata": {},
   "outputs": [],
   "source": [
    "write_js('c:/temp/cc.de.300.vec', 'C:/Users/Ken/Documents/GitHub/ai/word-embeddings/de/wiki-words.js', 'de', 20000)"
   ]
  },
  {
   "cell_type": "code",
   "execution_count": 20,
   "metadata": {},
   "outputs": [],
   "source": [
    "write_js('c:/temp/cc.zh.300.vec', 'C:/Users/Ken/Documents/GitHub/ai/word-embeddings/zh/wiki-words.js', 'zh', 20000)"
   ]
  },
  {
   "cell_type": "code",
   "execution_count": 13,
   "metadata": {},
   "outputs": [],
   "source": [
    "write_js('c:/temp/cc.sv.300.vec', 'C:/Users/Ken/Documents/GitHub/ai/word-embeddings/sv/wiki-words.js', 'sv', 20000)"
   ]
  },
  {
   "cell_type": "code",
   "execution_count": 21,
   "metadata": {},
   "outputs": [],
   "source": [
    "write_js('c:/temp/cc.ja.300.vec', 'C:/Users/Ken/Documents/GitHub/ai/word-embeddings/ja/wiki-words.js', 'ja', 20000)"
   ]
  },
  {
   "cell_type": "code",
   "execution_count": 2,
   "metadata": {},
   "outputs": [],
   "source": [
    "write_vectors('c://temp//wiki-news-300d-1M.vec', 'C://Users//Ken//Documents//GitHub//ai//word-embeddings//en/wiki-words.vec', 'en', 20000)"
   ]
  },
  {
   "cell_type": "code",
   "execution_count": 12,
   "metadata": {},
   "outputs": [],
   "source": [
    "write_vectors('c://temp//cc.it.300.vec', 'C://Users//Ken//Documents//GitHub//ai//word-embeddings//it/wiki-words.vec', 'it', 20000)"
   ]
  },
  {
   "cell_type": "code",
   "execution_count": 3,
   "metadata": {},
   "outputs": [],
   "source": [
    "write_vectors('c://temp//cc.sv.300.vec', 'C://Users//Ken//Documents//GitHub//ai//word-embeddings//sv/wiki-words.vec', 'sv', 20000)"
   ]
  },
  {
   "cell_type": "code",
   "execution_count": 4,
   "metadata": {},
   "outputs": [],
   "source": [
    "write_vectors('c://temp//cc.ja.300.vec', 'C://Users//Ken//Documents//GitHub//ai//word-embeddings//ja/wiki-words.vec', 'ja', 20000)"
   ]
  },
  {
   "cell_type": "code",
   "execution_count": 5,
   "metadata": {},
   "outputs": [],
   "source": [
    "write_vectors('c://temp//cc.de.300.vec', 'C://Users//Ken//Documents//GitHub//ai//word-embeddings//de/wiki-words.vec', 'de', 20000)"
   ]
  },
  {
   "cell_type": "code",
   "execution_count": 6,
   "metadata": {},
   "outputs": [],
   "source": [
    "write_vectors('c://temp//cc.el.300.vec', 'C://Users//Ken//Documents//GitHub//ai//word-embeddings//el/wiki-words.vec', 'el', 20000)"
   ]
  },
  {
   "cell_type": "code",
   "execution_count": 7,
   "metadata": {},
   "outputs": [],
   "source": [
    "write_vectors('c://temp//cc.fr.300.vec', 'C://Users//Ken//Documents//GitHub//ai//word-embeddings//fr/wiki-words.vec', 'fr', 20000)"
   ]
  },
  {
   "cell_type": "code",
   "execution_count": 8,
   "metadata": {},
   "outputs": [],
   "source": [
    "write_vectors('c://temp//cc.fi.300.vec', 'C://Users//Ken//Documents//GitHub//ai//word-embeddings//fi/wiki-words.vec', 'fi', 20000)"
   ]
  },
  {
   "cell_type": "code",
   "execution_count": 14,
   "metadata": {},
   "outputs": [],
   "source": [
    "write_vectors('c://temp//cc.id.300.vec', 'C://Users//Ken//Documents//GitHub//ai//word-embeddings//id/wiki-words.vec', 'id', 20000)"
   ]
  },
  {
   "cell_type": "code",
   "execution_count": 10,
   "metadata": {},
   "outputs": [],
   "source": [
    "write_vectors('c://temp//cc.pt.300.vec', 'C://Users//Ken//Documents//GitHub//ai//word-embeddings//pt/wiki-words.vec', 'pt', 20000)"
   ]
  },
  {
   "cell_type": "code",
   "execution_count": 11,
   "metadata": {},
   "outputs": [],
   "source": [
    "write_vectors('c://temp//cc.si.300.vec', 'C://Users//Ken//Documents//GitHub//ai//word-embeddings//si/wiki-words.vec', 'si', 20000)"
   ]
  },
  {
   "cell_type": "code",
   "execution_count": 12,
   "metadata": {},
   "outputs": [],
   "source": [
    "write_vectors('c://temp//cc.zh.300.vec', 'C://Users//Ken//Documents//GitHub//ai//word-embeddings//zh/wiki-words.vec', 'zh', 20000)"
   ]
  },
  {
   "cell_type": "code",
   "execution_count": 13,
   "metadata": {},
   "outputs": [],
   "source": [
    "write_vectors('c://temp//cc.hi.300.vec', 'C://Users//Ken//Documents//GitHub//ai//word-embeddings//hi/wiki-words.vec', 'hi', 20000)"
   ]
  },
  {
   "cell_type": "code",
   "execution_count": 15,
   "metadata": {},
   "outputs": [],
   "source": [
    "write_vectors('c://temp//cc.es.300.vec', 'C://Users//Ken//Documents//GitHub//ai//word-embeddings//es/wiki-words.vec', 'es', 20000)"
   ]
  },
  {
   "cell_type": "code",
   "execution_count": 16,
   "metadata": {},
   "outputs": [],
   "source": [
    "write_js('c:/temp/cc.es.300.vec', 'C:/Users/Ken/Documents/GitHub/ai/word-embeddings/es/wiki-words.js', 'es', 20000)"
   ]
  },
  {
   "cell_type": "code",
   "execution_count": 3,
   "metadata": {},
   "outputs": [],
   "source": [
    "write_js('c:/temp/cc.id.300.vec', 'C:/Users/Ken/Documents/GitHub/ai/word-embeddings/id/wiki-words.js', 'id', 20000)"
   ]
  },
  {
   "cell_type": "code",
   "execution_count": null,
   "metadata": {},
   "outputs": [],
   "source": []
  }
 ],
 "metadata": {
  "kernelspec": {
   "display_name": "Python 3",
   "language": "python",
   "name": "python3"
  },
  "language_info": {
   "codemirror_mode": {
    "name": "ipython",
    "version": 3
   },
   "file_extension": ".py",
   "mimetype": "text/x-python",
   "name": "python",
   "nbconvert_exporter": "python",
   "pygments_lexer": "ipython3",
   "version": "3.6.5"
  }
 },
 "nbformat": 4,
 "nbformat_minor": 2
}
